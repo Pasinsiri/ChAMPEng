{
 "cells": [
  {
   "cell_type": "code",
   "execution_count": 1,
   "metadata": {},
   "outputs": [],
   "source": [
    "import pandas as pd\n",
    "import numpy as np"
   ]
  },
  {
   "cell_type": "code",
   "execution_count": 22,
   "metadata": {},
   "outputs": [],
   "source": [
    "path = '../Application Analysis/Data/'\n",
    "raw = pd.read_excel(path + 'champ3_app.xlsx')"
   ]
  },
  {
   "cell_type": "code",
   "execution_count": 23,
   "metadata": {},
   "outputs": [
    {
     "data": {
      "text/html": [
       "<div>\n",
       "<style scoped>\n",
       "    .dataframe tbody tr th:only-of-type {\n",
       "        vertical-align: middle;\n",
       "    }\n",
       "\n",
       "    .dataframe tbody tr th {\n",
       "        vertical-align: top;\n",
       "    }\n",
       "\n",
       "    .dataframe thead th {\n",
       "        text-align: right;\n",
       "    }\n",
       "</style>\n",
       "<table border=\"1\" class=\"dataframe\">\n",
       "  <thead>\n",
       "    <tr style=\"text-align: right;\">\n",
       "      <th></th>\n",
       "      <th>Timestamp</th>\n",
       "      <th>Email Address</th>\n",
       "      <th>ชื่อ-นามสกุล</th>\n",
       "      <th>ชื่อเล่น</th>\n",
       "      <th>ที่อยู่ปัจจุบัน</th>\n",
       "      <th>เบอร์โทรศัพท์</th>\n",
       "      <th>เบอร์ติดต่อฉุกเฉิน</th>\n",
       "      <th>ความสัมพันธ์กับเจ้าของเบอร์ติดต่อฉุกเฉิน</th>\n",
       "      <th>วันเกิด</th>\n",
       "      <th>เพศ</th>\n",
       "      <th>...</th>\n",
       "      <th>Q2 คุณคิดว่าโครงการฯ มีจุดมุ่งหมายใด และคุณคิดว่าคุณจะช่วยให้โครงการฯ บรรลุจุดมุ่งหมายนั้นได้มากกว่าคนอื่นอย่างไร</th>\n",
       "      <th>Q3 เมื่ออยู่ในสถานการณ์ที่เราจำเป็นที่จะต้องทำในสิ่งที่ไม่ถนัดไม่ชอบหรือไม่เคยทำคุณมีวิธีการจัดการอย่างไรเพื่อให้คุณสามารถทำสิ่งเหล่านั้นได้สำเร็จลุล่วง</th>\n",
       "      <th>Q4 เล่าประสบการณ์ที่เคยได้ช่วยเหลือหรือแบ่งปันให้ผู้อื่น (เช่น คนรอบตัว หรือสังคม) โดยเล่าสถานการณ์ที่เกิดขึ้น การกระทำ และผลลัพธ์</th>\n",
       "      <th>Q5 ให้คุณอธิบายเกี่ยวกับกิจกรรมที่คุณเคยทำร่วมกับผู้อื่น คุณเคยพบกับปัญหาจากการทำกิจกรรมร่วมกับผู้อื่นหรือไม่ ถ้าพบปัญหา คุณมีวิธีการจัดการปัญหานั้นอย่างไร</th>\n",
       "      <th>Transcript</th>\n",
       "      <th>Resume หรือ CV</th>\n",
       "      <th>Recommendation Letter</th>\n",
       "      <th>Unnamed: 25</th>\n",
       "      <th>รุ่น Intania</th>\n",
       "      <th>Line ID สำหรับเชิญเข้ากลุ่ม กรณีผ่านเข้ารอบโครงการ</th>\n",
       "    </tr>\n",
       "  </thead>\n",
       "  <tbody>\n",
       "    <tr>\n",
       "      <th>0</th>\n",
       "      <td>2020-08-17 21:53:22.451</td>\n",
       "      <td>jane_janejira79@hotmail.com</td>\n",
       "      <td>janejira</td>\n",
       "      <td>jane</td>\n",
       "      <td>11</td>\n",
       "      <td>099-193-5777</td>\n",
       "      <td>099-193-5777</td>\n",
       "      <td>มารดา</td>\n",
       "      <td>2020-05-29 00:00:00</td>\n",
       "      <td>หญิง</td>\n",
       "      <td>...</td>\n",
       "      <td>1111111111111111111111111111111111111111111111...</td>\n",
       "      <td>1111111111111111111111111111111111111111111111...</td>\n",
       "      <td>1111111111111111111111111111111111111111111111...</td>\n",
       "      <td>1111111111111111111111111111111111111111111111...</td>\n",
       "      <td>https://drive.google.com/open?id=1GCoEQwXr8-rv...</td>\n",
       "      <td>https://drive.google.com/open?id=1Jh69lWzpyTyn...</td>\n",
       "      <td>NaN</td>\n",
       "      <td>NaN</td>\n",
       "      <td>NaN</td>\n",
       "      <td>NaN</td>\n",
       "    </tr>\n",
       "    <tr>\n",
       "      <th>1</th>\n",
       "      <td>2020-08-23 20:30:56.596</td>\n",
       "      <td>thitirat.crw@gmail.com</td>\n",
       "      <td>ฐิติรัตน์ เจริญวัย</td>\n",
       "      <td>แนน</td>\n",
       "      <td>กด่กาด่าห่าหก</td>\n",
       "      <td>094-551-6229</td>\n",
       "      <td>098-469-5156</td>\n",
       "      <td>มารดา</td>\n",
       "      <td>1998-06-09 00:00:00</td>\n",
       "      <td>หญิง</td>\n",
       "      <td>...</td>\n",
       "      <td>sdfsdfdssddsfdsaaaaaaaaaaaaaaaaaaaaaaaaaaaaaaa...</td>\n",
       "      <td>sdfsfdfsfdsfsdfsdfsdaaaaaaaaaaaaaaaaaaaaaaaaaa...</td>\n",
       "      <td>sdfsfsfdsfsdawewaaaaaaaaaaaaaaaaaaaaaaaaaaaaaa...</td>\n",
       "      <td>dsfsdfsdgrtrtrgfaaaaaaaaaaaaaaaaaaaaaaaaaaaaaa...</td>\n",
       "      <td>https://drive.google.com/open?id=1tS88310PUZ42...</td>\n",
       "      <td>https://drive.google.com/open?id=1g9d3J6Ape02s...</td>\n",
       "      <td>NaN</td>\n",
       "      <td>Option 1</td>\n",
       "      <td>101.0</td>\n",
       "      <td>nt-thitirat</td>\n",
       "    </tr>\n",
       "  </tbody>\n",
       "</table>\n",
       "<p>2 rows × 28 columns</p>\n",
       "</div>"
      ],
      "text/plain": [
       "                Timestamp                Email Address        ชื่อ-นามสกุล  \\\n",
       "0 2020-08-17 21:53:22.451  jane_janejira79@hotmail.com            janejira   \n",
       "1 2020-08-23 20:30:56.596       thitirat.crw@gmail.com  ฐิติรัตน์ เจริญวัย   \n",
       "\n",
       "  ชื่อเล่น ที่อยู่ปัจจุบัน เบอร์โทรศัพท์ เบอร์ติดต่อฉุกเฉิน  \\\n",
       "0     jane              11  099-193-5777       099-193-5777   \n",
       "1      แนน   กด่กาด่าห่าหก  094-551-6229       098-469-5156   \n",
       "\n",
       "  ความสัมพันธ์กับเจ้าของเบอร์ติดต่อฉุกเฉิน              วันเกิด   เพศ  ...  \\\n",
       "0                                    มารดา  2020-05-29 00:00:00  หญิง  ...   \n",
       "1                                    มารดา  1998-06-09 00:00:00  หญิง  ...   \n",
       "\n",
       "   Q2 คุณคิดว่าโครงการฯ มีจุดมุ่งหมายใด และคุณคิดว่าคุณจะช่วยให้โครงการฯ บรรลุจุดมุ่งหมายนั้นได้มากกว่าคนอื่นอย่างไร  \\\n",
       "0  1111111111111111111111111111111111111111111111...                                                                   \n",
       "1  sdfsdfdssddsfdsaaaaaaaaaaaaaaaaaaaaaaaaaaaaaaa...                                                                   \n",
       "\n",
       "   Q3 เมื่ออยู่ในสถานการณ์ที่เราจำเป็นที่จะต้องทำในสิ่งที่ไม่ถนัดไม่ชอบหรือไม่เคยทำคุณมีวิธีการจัดการอย่างไรเพื่อให้คุณสามารถทำสิ่งเหล่านั้นได้สำเร็จลุล่วง  \\\n",
       "0  1111111111111111111111111111111111111111111111...                                                                                                          \n",
       "1  sdfsfdfsfdsfsdfsdfsdaaaaaaaaaaaaaaaaaaaaaaaaaa...                                                                                                          \n",
       "\n",
       "   Q4 เล่าประสบการณ์ที่เคยได้ช่วยเหลือหรือแบ่งปันให้ผู้อื่น (เช่น คนรอบตัว หรือสังคม) โดยเล่าสถานการณ์ที่เกิดขึ้น การกระทำ และผลลัพธ์  \\\n",
       "0  1111111111111111111111111111111111111111111111...                                                                                    \n",
       "1  sdfsfsfdsfsdawewaaaaaaaaaaaaaaaaaaaaaaaaaaaaaa...                                                                                    \n",
       "\n",
       "  Q5 ให้คุณอธิบายเกี่ยวกับกิจกรรมที่คุณเคยทำร่วมกับผู้อื่น คุณเคยพบกับปัญหาจากการทำกิจกรรมร่วมกับผู้อื่นหรือไม่ ถ้าพบปัญหา คุณมีวิธีการจัดการปัญหานั้นอย่างไร  \\\n",
       "0  1111111111111111111111111111111111111111111111...                                                                                                            \n",
       "1  dsfsdfsdgrtrtrgfaaaaaaaaaaaaaaaaaaaaaaaaaaaaaa...                                                                                                            \n",
       "\n",
       "                                          Transcript  \\\n",
       "0  https://drive.google.com/open?id=1GCoEQwXr8-rv...   \n",
       "1  https://drive.google.com/open?id=1tS88310PUZ42...   \n",
       "\n",
       "                                      Resume หรือ CV Recommendation Letter  \\\n",
       "0  https://drive.google.com/open?id=1Jh69lWzpyTyn...                   NaN   \n",
       "1  https://drive.google.com/open?id=1g9d3J6Ape02s...                   NaN   \n",
       "\n",
       "  Unnamed: 25 รุ่น Intania Line ID สำหรับเชิญเข้ากลุ่ม กรณีผ่านเข้ารอบโครงการ  \n",
       "0         NaN          NaN                                                NaN  \n",
       "1    Option 1        101.0                                        nt-thitirat  \n",
       "\n",
       "[2 rows x 28 columns]"
      ]
     },
     "execution_count": 23,
     "metadata": {},
     "output_type": "execute_result"
    }
   ],
   "source": [
    "raw.head(2)"
   ]
  },
  {
   "cell_type": "code",
   "execution_count": 24,
   "metadata": {},
   "outputs": [],
   "source": [
    "# Drop duplicates, remove the first two rows and the other trial row of which the address is 'sdf'\n",
    "raw = raw.iloc[2:]\n",
    "raw.drop_duplicates(subset = 'รหัสนิสิต', inplace = True, keep = 'first')\n",
    "raw = raw[~(raw['ที่อยู่ปัจจุบัน'] == 'sdf')]\n",
    "df = raw[['Email Address', 'ชื่อ-นามสกุล']].reset_index(drop = True)"
   ]
  },
  {
   "cell_type": "code",
   "execution_count": 25,
   "metadata": {},
   "outputs": [
    {
     "data": {
      "text/html": [
       "<div>\n",
       "<style scoped>\n",
       "    .dataframe tbody tr th:only-of-type {\n",
       "        vertical-align: middle;\n",
       "    }\n",
       "\n",
       "    .dataframe tbody tr th {\n",
       "        vertical-align: top;\n",
       "    }\n",
       "\n",
       "    .dataframe thead th {\n",
       "        text-align: right;\n",
       "    }\n",
       "</style>\n",
       "<table border=\"1\" class=\"dataframe\">\n",
       "  <thead>\n",
       "    <tr style=\"text-align: right;\">\n",
       "      <th></th>\n",
       "      <th>Email Address</th>\n",
       "      <th>ชื่อ-นามสกุล</th>\n",
       "    </tr>\n",
       "  </thead>\n",
       "  <tbody>\n",
       "    <tr>\n",
       "      <th>0</th>\n",
       "      <td>wsasijulaka@gmail.com</td>\n",
       "      <td>วรกร ศศิจุลกะ</td>\n",
       "    </tr>\n",
       "    <tr>\n",
       "      <th>1</th>\n",
       "      <td>kodchakarnch@gmail.com</td>\n",
       "      <td>กชกาญจน์ จตุพงศ์ตระกูล</td>\n",
       "    </tr>\n",
       "    <tr>\n",
       "      <th>2</th>\n",
       "      <td>kimchouosathanuphap@gmail.com</td>\n",
       "      <td>วัชรากร โอสถานุภาพ</td>\n",
       "    </tr>\n",
       "    <tr>\n",
       "      <th>3</th>\n",
       "      <td>mindmilk23@gmail.com</td>\n",
       "      <td>ญาดา เคลือบวิจิตร</td>\n",
       "    </tr>\n",
       "    <tr>\n",
       "      <th>4</th>\n",
       "      <td>pew_1999@hotmail.com</td>\n",
       "      <td>ปพิชญา ผุดผ่อง</td>\n",
       "    </tr>\n",
       "  </tbody>\n",
       "</table>\n",
       "</div>"
      ],
      "text/plain": [
       "                   Email Address            ชื่อ-นามสกุล\n",
       "0          wsasijulaka@gmail.com           วรกร ศศิจุลกะ\n",
       "1         kodchakarnch@gmail.com  กชกาญจน์ จตุพงศ์ตระกูล\n",
       "2  kimchouosathanuphap@gmail.com      วัชรากร โอสถานุภาพ\n",
       "3           mindmilk23@gmail.com       ญาดา เคลือบวิจิตร\n",
       "4           pew_1999@hotmail.com          ปพิชญา ผุดผ่อง"
      ]
     },
     "execution_count": 25,
     "metadata": {},
     "output_type": "execute_result"
    }
   ],
   "source": [
    "df.head()"
   ]
  },
  {
   "cell_type": "code",
   "execution_count": 26,
   "metadata": {},
   "outputs": [],
   "source": [
    "# Select top 100\n",
    "first = df.head(100)"
   ]
  },
  {
   "cell_type": "code",
   "execution_count": 28,
   "metadata": {},
   "outputs": [],
   "source": [
    "first.to_excel('first100.xlsx', index = False)"
   ]
  },
  {
   "cell_type": "code",
   "execution_count": null,
   "metadata": {},
   "outputs": [],
   "source": []
  }
 ],
 "metadata": {
  "kernelspec": {
   "display_name": "Python 3",
   "language": "python",
   "name": "python3"
  },
  "language_info": {
   "codemirror_mode": {
    "name": "ipython",
    "version": 3
   },
   "file_extension": ".py",
   "mimetype": "text/x-python",
   "name": "python",
   "nbconvert_exporter": "python",
   "pygments_lexer": "ipython3",
   "version": "3.7.6"
  }
 },
 "nbformat": 4,
 "nbformat_minor": 4
}
