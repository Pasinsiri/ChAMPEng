{
 "cells": [
  {
   "cell_type": "code",
   "execution_count": 1,
   "metadata": {},
   "outputs": [],
   "source": [
    "# Parameters\n",
    "INPUT_FILE = 'Data/raw_example.csv'\n",
    "MAX_ORDER = 10\n",
    "SCORE_LIST = [34,21,13,8,5,3,2,1,1,1]\n",
    "\n",
    "assert len(SCORE_LIST) == MAX_ORDER"
   ]
  },
  {
   "cell_type": "code",
   "execution_count": 2,
   "metadata": {},
   "outputs": [],
   "source": [
    "import pandas as pd\n",
    "import re\n",
    "import numpy as np"
   ]
  },
  {
   "cell_type": "code",
   "execution_count": 3,
   "metadata": {},
   "outputs": [],
   "source": [
    "def clean_rank_score(text):\n",
    "    \"\"\" Get the pair number from each cell of rankings\n",
    "        If the cell is blank, return nan\n",
    "    \"\"\"\n",
    "    try:\n",
    "        return 'pair ' + re.search(r\"\\d+\", text).group(0)\n",
    "    except:\n",
    "        return np.nan\n",
    "    \n",
    "def apply_to_table(func, df, name_condition, mode = 'in'):\n",
    "    \"\"\" Apply a function to every column of a dataset which\n",
    "        matches the given\n",
    "        \n",
    "        If mode = 'in' (default),\n",
    "        the condition is a column's name must contain name_condition\n",
    "        \n",
    "        If mode = 'equal',\n",
    "        the condition is a column's name must equal to name_condition\n",
    "        \n",
    "        If mode = 'not in',\n",
    "        the condition is a column's name must not contain name_condition\n",
    "        \n",
    "        If mode = 'not equal',\n",
    "        the condition is a column's name must not equal to name_condition\n",
    "    \"\"\"\n",
    "    new = df.copy()\n",
    "    \n",
    "    if mode == 'in':\n",
    "        selected_cols = [col for col in df if name_condition in col]\n",
    "    elif mode == 'equal':\n",
    "        selected_cols = [col for col in df if col == name_condition]\n",
    "    elif mode == 'not in':\n",
    "        selected_cols = [col for col in df if name_condition not in col]\n",
    "    elif mode == 'not equal':\n",
    "        selected_cols = [col for col in df if col != name_condition]\n",
    "    else:\n",
    "        return \"Error: mode is not defined\"\n",
    "    \n",
    "    for col in new.columns:\n",
    "        if col in selected_cols:\n",
    "            new[col] = df[col].apply(func)\n",
    "    return new"
   ]
  },
  {
   "cell_type": "code",
   "execution_count": 4,
   "metadata": {},
   "outputs": [],
   "source": [
    "# The first three rows (exclude header) are trial rows (we won't use it)\n",
    "data = pd.read_csv(INPUT_FILE)"
   ]
  },
  {
   "cell_type": "code",
   "execution_count": 5,
   "metadata": {},
   "outputs": [],
   "source": [
    "new_col_names = ['timestamp', 'email', 'tel', 'ID', 'name']\n",
    "new_col_names.extend([''.join(['rank', str(i + 1)]) for i in range(MAX_ORDER)])\n",
    "data.columns = new_col_names\n",
    "\n",
    "# Remove duplicates (keep last)\n",
    "data.drop_duplicates(subset = 'ID', keep = 'last', inplace = True)\n",
    "\n",
    "# Edit the one of which ID is wrong (60317499221 -> 6031749221)\n",
    "data.replace({60317499221: 6031749221}, inplace = True)\n",
    "\n",
    "# Set index\n",
    "data.set_index('ID', inplace = True)\n",
    "\n",
    "#data.head(3)"
   ]
  },
  {
   "cell_type": "code",
   "execution_count": 6,
   "metadata": {},
   "outputs": [],
   "source": [
    "# Drop unused columns\n",
    "data.drop(['timestamp', 'email', 'tel', 'name'], axis = 1, inplace = True)\n",
    "#data.head(3)"
   ]
  },
  {
   "cell_type": "code",
   "execution_count": 7,
   "metadata": {},
   "outputs": [],
   "source": [
    "ranks = data[[col for col in data if 'rank' in col]]\n",
    "#ranks.head(3)"
   ]
  },
  {
   "cell_type": "code",
   "execution_count": 8,
   "metadata": {
    "scrolled": true
   },
   "outputs": [],
   "source": [
    "rank_cleaned = apply_to_table(clean_rank_score, ranks, 'rank', 'in')\n",
    "#rank_cleaned"
   ]
  },
  {
   "cell_type": "markdown",
   "metadata": {},
   "source": [
    "## Flag Check: Select Duplicate Pairs"
   ]
  },
  {
   "cell_type": "markdown",
   "metadata": {},
   "source": [
    "If a candidate select the same pair in a different rank, we will use only the lower rank and will replace the higher rank with some random pair that is not selected much."
   ]
  },
  {
   "cell_type": "code",
   "execution_count": 9,
   "metadata": {},
   "outputs": [],
   "source": [
    "def dup_flag(ranks):\n",
    "    unique_list = []\n",
    "    dup_list = []\n",
    "    for pair in ranks:\n",
    "        if pair not in unique_list:\n",
    "            unique_list.append(pair)\n",
    "        else:\n",
    "            dup_list.append(pair)\n",
    "    return '-'.join(dup_list)"
   ]
  },
  {
   "cell_type": "code",
   "execution_count": 10,
   "metadata": {},
   "outputs": [
    {
     "data": {
      "text/html": [
       "<div>\n",
       "<style scoped>\n",
       "    .dataframe tbody tr th:only-of-type {\n",
       "        vertical-align: middle;\n",
       "    }\n",
       "\n",
       "    .dataframe tbody tr th {\n",
       "        vertical-align: top;\n",
       "    }\n",
       "\n",
       "    .dataframe thead th {\n",
       "        text-align: right;\n",
       "    }\n",
       "</style>\n",
       "<table border=\"1\" class=\"dataframe\">\n",
       "  <thead>\n",
       "    <tr style=\"text-align: right;\">\n",
       "      <th></th>\n",
       "      <th>rank1</th>\n",
       "      <th>rank2</th>\n",
       "      <th>rank3</th>\n",
       "      <th>rank4</th>\n",
       "      <th>rank5</th>\n",
       "      <th>rank6</th>\n",
       "      <th>rank7</th>\n",
       "      <th>rank8</th>\n",
       "      <th>rank9</th>\n",
       "      <th>rank10</th>\n",
       "      <th>dup_flag</th>\n",
       "    </tr>\n",
       "    <tr>\n",
       "      <th>ID</th>\n",
       "      <th></th>\n",
       "      <th></th>\n",
       "      <th></th>\n",
       "      <th></th>\n",
       "      <th></th>\n",
       "      <th></th>\n",
       "      <th></th>\n",
       "      <th></th>\n",
       "      <th></th>\n",
       "      <th></th>\n",
       "      <th></th>\n",
       "    </tr>\n",
       "  </thead>\n",
       "  <tbody>\n",
       "    <tr>\n",
       "      <th>6230124521</th>\n",
       "      <td>pair 17</td>\n",
       "      <td>pair 2</td>\n",
       "      <td>pair 1</td>\n",
       "      <td>pair 5</td>\n",
       "      <td>pair 15</td>\n",
       "      <td>pair 18</td>\n",
       "      <td>pair 10</td>\n",
       "      <td>pair 12</td>\n",
       "      <td>pair 8</td>\n",
       "      <td>pair 6</td>\n",
       "      <td>NaN</td>\n",
       "    </tr>\n",
       "    <tr>\n",
       "      <th>6031843521</th>\n",
       "      <td>pair 16</td>\n",
       "      <td>pair 8</td>\n",
       "      <td>pair 3</td>\n",
       "      <td>pair 17</td>\n",
       "      <td>pair 7</td>\n",
       "      <td>pair 10</td>\n",
       "      <td>pair 13</td>\n",
       "      <td>pair 6</td>\n",
       "      <td>pair 12</td>\n",
       "      <td>pair 18</td>\n",
       "      <td>NaN</td>\n",
       "    </tr>\n",
       "    <tr>\n",
       "      <th>6030274221</th>\n",
       "      <td>pair 3</td>\n",
       "      <td>pair 15</td>\n",
       "      <td>pair 12</td>\n",
       "      <td>pair 18</td>\n",
       "      <td>pair 8</td>\n",
       "      <td>pair 2</td>\n",
       "      <td>pair 5</td>\n",
       "      <td>pair 17</td>\n",
       "      <td>pair 6</td>\n",
       "      <td>pair 10</td>\n",
       "      <td>NaN</td>\n",
       "    </tr>\n",
       "  </tbody>\n",
       "</table>\n",
       "</div>"
      ],
      "text/plain": [
       "              rank1    rank2    rank3    rank4    rank5    rank6    rank7  \\\n",
       "ID                                                                          \n",
       "6230124521  pair 17   pair 2   pair 1   pair 5  pair 15  pair 18  pair 10   \n",
       "6031843521  pair 16   pair 8   pair 3  pair 17   pair 7  pair 10  pair 13   \n",
       "6030274221   pair 3  pair 15  pair 12  pair 18   pair 8   pair 2   pair 5   \n",
       "\n",
       "              rank8    rank9   rank10 dup_flag  \n",
       "ID                                              \n",
       "6230124521  pair 12   pair 8   pair 6      NaN  \n",
       "6031843521   pair 6  pair 12  pair 18      NaN  \n",
       "6030274221  pair 17   pair 6  pair 10      NaN  "
      ]
     },
     "execution_count": 10,
     "metadata": {},
     "output_type": "execute_result"
    }
   ],
   "source": [
    "rank_cleaned['dup_flag'] = rank_cleaned.apply(dup_flag, axis = 0)\n",
    "rank_cleaned.head(3)"
   ]
  },
  {
   "cell_type": "code",
   "execution_count": 11,
   "metadata": {},
   "outputs": [
    {
     "data": {
      "text/plain": [
       "Series([], Name: dup_flag, dtype: int64)"
      ]
     },
     "execution_count": 11,
     "metadata": {},
     "output_type": "execute_result"
    }
   ],
   "source": [
    "# Check if there is any duplicates in our data\n",
    "rank_cleaned['dup_flag'].value_counts()"
   ]
  },
  {
   "cell_type": "markdown",
   "metadata": {},
   "source": [
    "If there is no duplicate, move on to the next step."
   ]
  },
  {
   "cell_type": "markdown",
   "metadata": {},
   "source": [
    "# Create a New Table"
   ]
  },
  {
   "cell_type": "code",
   "execution_count": 12,
   "metadata": {},
   "outputs": [],
   "source": [
    "col_list = [' '.join(['pair', str(i)]) for i in range(1, 19)]\n",
    "\n",
    "# Drop duplicate flag from rank_cleaned\n",
    "rank_cleaned.drop(['dup_flag'], axis = 1, inplace = True)\n",
    "\n",
    "scores = pd.DataFrame(index=rank_cleaned.index, columns=col_list)"
   ]
  },
  {
   "cell_type": "code",
   "execution_count": 13,
   "metadata": {},
   "outputs": [],
   "source": [
    "for candidate_id in rank_cleaned.index:\n",
    "    row = rank_cleaned.loc[candidate_id]\n",
    "    for rank in row.index:\n",
    "        # Remove the word \"rank\"\n",
    "        rank_number = rank[4:]\n",
    "        \n",
    "        scores.loc[candidate_id, row.loc[rank]] = rank_number\n",
    "        \n",
    "# Reorder columns\n",
    "pair_order = [' '.join(['pair', str(i)]) for i in range(1, 19)]\n",
    "scores = scores[pair_order]"
   ]
  },
  {
   "cell_type": "code",
   "execution_count": 14,
   "metadata": {},
   "outputs": [],
   "source": [
    "#scores"
   ]
  },
  {
   "cell_type": "code",
   "execution_count": 22,
   "metadata": {},
   "outputs": [],
   "source": [
    "# Save\n",
    "scores.to_csv('pair_selection.csv')"
   ]
  },
  {
   "cell_type": "code",
   "execution_count": 16,
   "metadata": {},
   "outputs": [
    {
     "data": {
      "text/plain": [
       "Pair 17 : พี่ใหม่ ปริมล กาญจนจารี, พี่วิน วิธวินท์ อิทธิภาณุวัต                 24\n",
       "Pair 3 : พี่โบ้ พิเชษฐ สิทธิอำนวย, พี่เหมย ศิรินทร์ เจ้าพิทักษ์วงศ์             12\n",
       "Pair 8 : พี่ประทิต ประทิต โลหะธีรภาพ, พี่ตั้ม สันติ ศรีวิชาญกุล                 11\n",
       "Pair 1 : พี่เล้ง ศิริวัฒน์ วงศ์จารุกร, พี่โทนี่ โทนี่ คันธาภัสระ                 9\n",
       "Pair 15 : พี่อ้อ รัชดา ด่านพงษ์เจริญ, พี่โอห์ม อัฐพงศ์ รัตนวีระชานน              8\n",
       "Pair 11 : พี่ไมเคิล อธิวรรธน์ วงศ์ไวศยวรรณ, พี่ธัช กิตติธัช อภิศักดิ์ศิริกุล     7\n",
       "Pair 2 : พี่ก้อง พณชิต กิตติปัญญางาม, พี่ต้น วงศกร ชัยวนนท์                      7\n",
       "Pair 18 : พี่ต้อง ดร. อโณทัย รัตนกุล, พี่ต้า ดร. วิโรจน์ จิรพัฒนกุล              6\n",
       "Pair 5 : พี่เก่ง ดร.ธิติ วัชรสินธพชัย, พี่วี วีรวัฒน์ คิรินทร์รัตนะ              6\n",
       "Pair 13 : พี่โน อโณทัย อดุลพันธุ์, พี่หวัง กิตติศักดิ์ ปัญญาจิรกุล               3\n",
       "Pair 12 : พี่เส เสนธิป ศรีไพพรรณ, พี่แจ็ค ชวิน ศุภวงศ์                           3\n",
       "Pair 9 : พี่รุจ ดร. รุจ ณ สงขลา, พี่ต้อง สโรชินี ปวีณวัฒน์                       3\n",
       "Pair 4 : พี่ก๊วย ไพโรจน์ กวียานันท์, พี่หยก บุญญพร ฤทธิเดช                       2\n",
       "Pair 16 : พี่หลุยส์ ธีรพจน์ จรสโรจน์กุล, พี่โบ๊ท ภัทรวิน จงวิศาล                 2\n",
       "Pair 6 : พี่ถิ ถิรพันธุ์ สรรพกิจ, พี่ปันเจ ปัญจมพงศ์ เสริมสวัสดิ์ศรี             2\n",
       "Pair 14 : พี่เหมา วิษณุ วิวัฒนะประเสริฐ, พี่ฟอง อรรถสิทธิ์ พานิชย์ไพศาลกูล       1\n",
       "Pair 10 : พี่เห่า ดร.วิบูลย์ อรุณธเนศ, พี่แบงก์ ฐิติพงศ์ รัตนหิรัญญา             1\n",
       "Pair 7 : พี่โหน่ง พิสิฐ ยิ่งมโนกิจ, พี่เอ็ม ธนวัฒน์ ว่องเศรษฐชัย                 1\n",
       "Name: rank1, dtype: int64"
      ]
     },
     "execution_count": 16,
     "metadata": {},
     "output_type": "execute_result"
    }
   ],
   "source": [
    "data.rank1.value_counts()"
   ]
  },
  {
   "cell_type": "markdown",
   "metadata": {},
   "source": [
    "## Add Tier"
   ]
  },
  {
   "cell_type": "code",
   "execution_count": 17,
   "metadata": {},
   "outputs": [],
   "source": [
    "app_score = pd.read_excel('Data/application_score.xlsx', sheet_name='final', index_col='ID')"
   ]
  },
  {
   "cell_type": "code",
   "execution_count": 18,
   "metadata": {},
   "outputs": [],
   "source": [
    "score_with_tier = scores.copy()"
   ]
  },
  {
   "cell_type": "code",
   "execution_count": 19,
   "metadata": {},
   "outputs": [
    {
     "data": {
      "text/html": [
       "<div>\n",
       "<style scoped>\n",
       "    .dataframe tbody tr th:only-of-type {\n",
       "        vertical-align: middle;\n",
       "    }\n",
       "\n",
       "    .dataframe tbody tr th {\n",
       "        vertical-align: top;\n",
       "    }\n",
       "\n",
       "    .dataframe thead th {\n",
       "        text-align: right;\n",
       "    }\n",
       "</style>\n",
       "<table border=\"1\" class=\"dataframe\">\n",
       "  <thead>\n",
       "    <tr style=\"text-align: right;\">\n",
       "      <th></th>\n",
       "      <th>pair 1</th>\n",
       "      <th>pair 2</th>\n",
       "      <th>pair 3</th>\n",
       "      <th>pair 4</th>\n",
       "      <th>pair 5</th>\n",
       "      <th>pair 6</th>\n",
       "      <th>pair 7</th>\n",
       "      <th>pair 8</th>\n",
       "      <th>pair 9</th>\n",
       "      <th>pair 10</th>\n",
       "      <th>pair 11</th>\n",
       "      <th>pair 12</th>\n",
       "      <th>pair 13</th>\n",
       "      <th>pair 14</th>\n",
       "      <th>pair 15</th>\n",
       "      <th>pair 16</th>\n",
       "      <th>pair 17</th>\n",
       "      <th>pair 18</th>\n",
       "      <th>tier</th>\n",
       "    </tr>\n",
       "    <tr>\n",
       "      <th>ID</th>\n",
       "      <th></th>\n",
       "      <th></th>\n",
       "      <th></th>\n",
       "      <th></th>\n",
       "      <th></th>\n",
       "      <th></th>\n",
       "      <th></th>\n",
       "      <th></th>\n",
       "      <th></th>\n",
       "      <th></th>\n",
       "      <th></th>\n",
       "      <th></th>\n",
       "      <th></th>\n",
       "      <th></th>\n",
       "      <th></th>\n",
       "      <th></th>\n",
       "      <th></th>\n",
       "      <th></th>\n",
       "      <th></th>\n",
       "    </tr>\n",
       "  </thead>\n",
       "  <tbody>\n",
       "    <tr>\n",
       "      <th>6230124521</th>\n",
       "      <td>3</td>\n",
       "      <td>2</td>\n",
       "      <td>NaN</td>\n",
       "      <td>NaN</td>\n",
       "      <td>4</td>\n",
       "      <td>10</td>\n",
       "      <td>NaN</td>\n",
       "      <td>9</td>\n",
       "      <td>NaN</td>\n",
       "      <td>7</td>\n",
       "      <td>NaN</td>\n",
       "      <td>8</td>\n",
       "      <td>NaN</td>\n",
       "      <td>NaN</td>\n",
       "      <td>5</td>\n",
       "      <td>NaN</td>\n",
       "      <td>1</td>\n",
       "      <td>6</td>\n",
       "      <td>4</td>\n",
       "    </tr>\n",
       "    <tr>\n",
       "      <th>6031843521</th>\n",
       "      <td>NaN</td>\n",
       "      <td>NaN</td>\n",
       "      <td>3</td>\n",
       "      <td>NaN</td>\n",
       "      <td>NaN</td>\n",
       "      <td>8</td>\n",
       "      <td>5</td>\n",
       "      <td>2</td>\n",
       "      <td>NaN</td>\n",
       "      <td>6</td>\n",
       "      <td>NaN</td>\n",
       "      <td>9</td>\n",
       "      <td>7</td>\n",
       "      <td>NaN</td>\n",
       "      <td>NaN</td>\n",
       "      <td>1</td>\n",
       "      <td>4</td>\n",
       "      <td>10</td>\n",
       "      <td>2</td>\n",
       "    </tr>\n",
       "    <tr>\n",
       "      <th>6030274221</th>\n",
       "      <td>NaN</td>\n",
       "      <td>6</td>\n",
       "      <td>1</td>\n",
       "      <td>NaN</td>\n",
       "      <td>7</td>\n",
       "      <td>9</td>\n",
       "      <td>NaN</td>\n",
       "      <td>5</td>\n",
       "      <td>NaN</td>\n",
       "      <td>10</td>\n",
       "      <td>NaN</td>\n",
       "      <td>3</td>\n",
       "      <td>NaN</td>\n",
       "      <td>NaN</td>\n",
       "      <td>2</td>\n",
       "      <td>NaN</td>\n",
       "      <td>8</td>\n",
       "      <td>4</td>\n",
       "      <td>4</td>\n",
       "    </tr>\n",
       "    <tr>\n",
       "      <th>6031779021</th>\n",
       "      <td>4</td>\n",
       "      <td>NaN</td>\n",
       "      <td>2</td>\n",
       "      <td>NaN</td>\n",
       "      <td>NaN</td>\n",
       "      <td>NaN</td>\n",
       "      <td>NaN</td>\n",
       "      <td>1</td>\n",
       "      <td>5</td>\n",
       "      <td>6</td>\n",
       "      <td>NaN</td>\n",
       "      <td>3</td>\n",
       "      <td>NaN</td>\n",
       "      <td>NaN</td>\n",
       "      <td>7</td>\n",
       "      <td>8</td>\n",
       "      <td>10</td>\n",
       "      <td>9</td>\n",
       "      <td>4</td>\n",
       "    </tr>\n",
       "    <tr>\n",
       "      <th>6030826721</th>\n",
       "      <td>10</td>\n",
       "      <td>1</td>\n",
       "      <td>4</td>\n",
       "      <td>NaN</td>\n",
       "      <td>NaN</td>\n",
       "      <td>NaN</td>\n",
       "      <td>NaN</td>\n",
       "      <td>5</td>\n",
       "      <td>NaN</td>\n",
       "      <td>NaN</td>\n",
       "      <td>9</td>\n",
       "      <td>6</td>\n",
       "      <td>2</td>\n",
       "      <td>NaN</td>\n",
       "      <td>8</td>\n",
       "      <td>NaN</td>\n",
       "      <td>3</td>\n",
       "      <td>7</td>\n",
       "      <td>1</td>\n",
       "    </tr>\n",
       "  </tbody>\n",
       "</table>\n",
       "</div>"
      ],
      "text/plain": [
       "           pair 1 pair 2 pair 3 pair 4 pair 5 pair 6 pair 7 pair 8 pair 9  \\\n",
       "ID                                                                          \n",
       "6230124521      3      2    NaN    NaN      4     10    NaN      9    NaN   \n",
       "6031843521    NaN    NaN      3    NaN    NaN      8      5      2    NaN   \n",
       "6030274221    NaN      6      1    NaN      7      9    NaN      5    NaN   \n",
       "6031779021      4    NaN      2    NaN    NaN    NaN    NaN      1      5   \n",
       "6030826721     10      1      4    NaN    NaN    NaN    NaN      5    NaN   \n",
       "\n",
       "           pair 10 pair 11 pair 12 pair 13 pair 14 pair 15 pair 16 pair 17  \\\n",
       "ID                                                                           \n",
       "6230124521       7     NaN       8     NaN     NaN       5     NaN       1   \n",
       "6031843521       6     NaN       9       7     NaN     NaN       1       4   \n",
       "6030274221      10     NaN       3     NaN     NaN       2     NaN       8   \n",
       "6031779021       6     NaN       3     NaN     NaN       7       8      10   \n",
       "6030826721     NaN       9       6       2     NaN       8     NaN       3   \n",
       "\n",
       "           pair 18  tier  \n",
       "ID                        \n",
       "6230124521       6     4  \n",
       "6031843521      10     2  \n",
       "6030274221       4     4  \n",
       "6031779021       9     4  \n",
       "6030826721       7     1  "
      ]
     },
     "execution_count": 19,
     "metadata": {},
     "output_type": "execute_result"
    }
   ],
   "source": [
    "score_with_tier['tier'] = app_score['Status']\n",
    "score_with_tier.head()"
   ]
  },
  {
   "cell_type": "code",
   "execution_count": 23,
   "metadata": {},
   "outputs": [],
   "source": [
    "score_with_tier.to_csv('pair_selection_with_tier.csv')"
   ]
  },
  {
   "cell_type": "code",
   "execution_count": 25,
   "metadata": {},
   "outputs": [
    {
     "data": {
      "text/plain": [
       "4    41\n",
       "2    29\n",
       "3    27\n",
       "1    11\n",
       "Name: tier, dtype: int64"
      ]
     },
     "execution_count": 25,
     "metadata": {},
     "output_type": "execute_result"
    }
   ],
   "source": [
    "score_with_tier.tier.value_counts()"
   ]
  },
  {
   "cell_type": "code",
   "execution_count": null,
   "metadata": {},
   "outputs": [],
   "source": []
  }
 ],
 "metadata": {
  "kernelspec": {
   "display_name": "Python 3",
   "language": "python",
   "name": "python3"
  },
  "language_info": {
   "codemirror_mode": {
    "name": "ipython",
    "version": 3
   },
   "file_extension": ".py",
   "mimetype": "text/x-python",
   "name": "python",
   "nbconvert_exporter": "python",
   "pygments_lexer": "ipython3",
   "version": "3.7.6"
  }
 },
 "nbformat": 4,
 "nbformat_minor": 4
}
